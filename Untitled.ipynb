{
 "cells": [
  {
   "cell_type": "markdown",
   "metadata": {},
   "source": [
    "\n",
    "Introduction à Python\n",
    "====\n",
    "Dans ce document, nous reprenons les éléments dont nous allons nous servir pour programmer avec `Python`.\n",
    "\n",
    "`Python` est un langage de programmation, mais de nombreuses applications permettent de saisir des programmes en `python`, puis de les exécuter. Vous pouvez par exemple installer \n",
    "- [Thonny](https://thonny.org \"Thonny\") ou\n",
    "- [Pyzo](https://pyzo.org \"Pyzo\").\n",
    "\n",
    "Au cours de cette séance, pour vous éviter d'installer quoi que ce soit sur votre machine, nous allons utiliser  ce  "
   ]
  }
 ],
 "metadata": {
  "kernelspec": {
   "display_name": "Python 3",
   "language": "python",
   "name": "python3"
  },
  "language_info": {
   "codemirror_mode": {
    "name": "ipython",
    "version": 3
   },
   "file_extension": ".py",
   "mimetype": "text/x-python",
   "name": "python",
   "nbconvert_exporter": "python",
   "pygments_lexer": "ipython3",
   "version": "3.8.5"
  },
  "name": "Untitled.ipynb"
 },
 "nbformat": 4,
 "nbformat_minor": 4
}
