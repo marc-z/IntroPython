{
 "cells": [
  {
   "cell_type": "markdown",
   "metadata": {},
   "source": [
    "\n",
    "# Informatique – Licence 3 Culture Humaniste et Scientifique #\n",
    "# Listes et traitement de chaînes de caractères  – 26 Novembre 2020 #\n"
   ]
  },
  {
   "cell_type": "markdown",
   "metadata": {},
   "source": [
    "## Introduction\n",
    "Ce document est un \"notebook\" [Jupyter](https://jupyter.org \"Jupyter\"). Il permet d'exécuter des bouts de code `Python` sans avoir besoin d'installer `Python` sur sa machine.\n",
    "\n",
    "Vous avez donc deux possibilités pour faire ce TP. Vous pouvez installer l'une des nombreuses applications permettant de saisir et d'exécuter des programmes `Python`, comme par exemple [Thonny](https://thonny.org \"Thonny\").\n",
    "\n",
    "pour vous éviter d'installer quoi que ce soit sur votre machine, vous pouvez utiliser directement ce document dans votre navigateur web.\n",
    "\n",
    "Ce document est composé de <span style=\"color:#e71149\">**cellules**</span> qui peuvent contenir du <span style=\"color:#0a4c8e\">**texte**</span> comme celle que vous êtes en train de lire, ou du <span style=\"color:#0a4c8e\">**code Python**</span>. Les cellules pouvant contenir du code `python` se repèrent car elles sont marquées `In [ ]:` ou `Entrée [ ]:` à leur gauche.\n",
    "\n",
    "Cliquer sur une cellule permet de la sélectionner. On repère la cellule sélectionnée par une barre à gauche (par défaut, bleue pour les cellules de texte et verte pour les cellules de code `python`).\n",
    "\n",
    "Vous pouvez modifier toute cellule de code, en supprimant, changeant ou ajoutant du texte. Pour cela, il suffit de sélectionner la cellule. On peut ensuite l'exécuter directement dans ce document. On peut exécuter une cellule autant de fois que l'on souhaite.\n",
    "\n",
    "Par exemple, la cellule suivante contient du code permettant juste d'afficher un message.<br>**Pour l'exécuter**&nbsp;: placez le curseur dans la cellule, et tapez `Shift-Entrée` (`Shift` est la touche pour passer temporairement en majuscules, et `Entrée` la touche pour passer à la ligne suivante)."
   ]
  },
  {
   "cell_type": "code",
   "execution_count": null,
   "metadata": {},
   "outputs": [],
   "source": [
    "print(\"Bonjour !\\nÉvaluez moi en tapant Shift-Entrée\")"
   ]
  },
  {
   "cell_type": "markdown",
   "metadata": {},
   "source": [
    "\n",
    "**En résumé&nbsp;:** pour exécuter une cellule contenant du code `Python`, cliquez dans la cellule pour faire passer sa couleur en vert (elle devient alors éditable), modifiez-la, puis&nbsp;:\n",
    "- soit utilisez le bouton `Run` (ou `Exécuter`) de la barre d'outils en haut de cette page web,\n",
    "- soit tapez `Shift-Entrée` (`Shift` est la touche de passage temporaire en majuscules).\n",
    "\n",
    "Ce raccourci clavier exécute la cellule, et positionne le curseur dans la cellule suivante. Vous pouvez utiliser ce même raccourci sur une cellule de texte pour passer à la cellule suivante (également si vous avez double-cliqué dans une cellule texte par erreur, pour revenir à l'affichage normal).\n",
    "\n",
    "**<font color='#a30102'>Attention&nbsp;!</font>** Sauvegardez régulièrement votre travail (menu `File -> Download as -> Python` en anglais, ou `Fichier -> Télécharger au format -> Python` en français, qui enregistre tous les blocs `Python` que vous aurez saisis).\n"
   ]
  },
  {
   "cell_type": "markdown",
   "metadata": {},
   "source": [
    "## Listes\n",
    "On veut manipuler des <span style=\"color:#e71149\">**listes**</span> de valeurs. `Python` peut manipuler des variables représentant non pas une seule valeur, mais un nombre fini arbitraire de valeurs (qui peuvent être de même type, ou pas). Comme c'est une notion utile, voici les éléments principaux à connaître sur les listes, avant de passer aux exercices suivants. L'intérêt de manipuler des listes est de pouvoir, \n",
    "\n",
    "- passer une liste de taille quelconque en argument à une fonction (et donc, simuler une fonction qui prend un nombre arbitraire d'arguments),\n",
    "\n",
    "- retourner des listes de taille quelconque (et donc, simuler une fonction qui retourne un nombre arbitraire d'arguments),\n",
    "\n",
    "- modifier les listes.\n",
    "\n",
    "**Création de listes.** On peut donner explicitement une  liste en insérant ses éléments entre crochets, séparés par des virgules. Il y a d'autres façons de créer des listes. Par exemple, on peut former les listes suivantes&nbsp;:"
   ]
  },
  {
   "cell_type": "code",
   "execution_count": null,
   "metadata": {},
   "outputs": [],
   "source": [
    "L1 = [2, 3, 5, 7, 11, 13]  # Liste des premiers nombres premiers, donnés explicitement.\n",
    "print(L1)\n",
    "\n",
    "L2 = list(range(20))       # Liste L[i] = i pour i de 0 à 19, en utilisant la construction range.\n",
    "print(L2)\n",
    "\n",
    "L3 = [x*x*x for x in L1]   # Liste des cubes des éléments de L1.\n",
    "print(L3)\n",
    "\n",
    "L4 = [(0,0), (0,1), (1,0)] # Liste de 3 couples d'entiers, donnés explicitement.\n",
    "print(L4)\n",
    "\n",
    "L5 = [1, 1.0, \"Un\", True]  # Liste d'éléments de types divers, donnés explicitement.\n",
    "print(L5)"
   ]
  },
  {
   "cell_type": "markdown",
   "metadata": {},
   "source": [
    "**Fonction longueur.** La fonction `len` renvoie la longueur d'une liste&nbsp;:"
   ]
  },
  {
   "cell_type": "code",
   "execution_count": null,
   "metadata": {},
   "outputs": [],
   "source": [
    "print(len(L1))\n",
    "print(len(L2))\n",
    "print(len(L3))\n",
    "print(len(L4))\n",
    "print(len(L5))"
   ]
  },
  {
   "cell_type": "markdown",
   "metadata": {},
   "source": [
    "On remarque que ces 5 instructions sont similaires, seule varie la liste dont on demande l'affichage de la longueur. On peut utiliser une boucle `for` pour obtenir le même résultat. Pour cela, on fait parcourir à une variable une liste contenant `L1`, `L2`, `L3`, `L4` et `L5`&nbsp;:"
   ]
  },
  {
   "cell_type": "code",
   "execution_count": null,
   "metadata": {},
   "outputs": [],
   "source": [
    "for l in [L1, L2, L3, L4, L5]:\n",
    "    print(len(l))"
   ]
  },
  {
   "cell_type": "markdown",
   "metadata": {},
   "source": [
    "**Parcours d'une liste par l'instruction `for`.** Dans l'exemple précédent, la notation \n",
    "```Python\n",
    "for <nom_de_variable> in <liste>:\n",
    "   instructions\n",
    "```\n",
    "permet ainsi d'exécuter les `instructions` en faisant prendre à la `variable`, successivement, chaque valeur des éléments de la `liste`. Par exemple, pour parcourir la liste `L1`&nbsp;:"
   ]
  },
  {
   "cell_type": "code",
   "execution_count": null,
   "metadata": {},
   "outputs": [],
   "source": [
    "for x in L1:\n",
    "    print(x, \"est un nombre premier\")"
   ]
  },
  {
   "cell_type": "markdown",
   "metadata": {},
   "source": [
    "**Accès à un élément particulier.** On peut accéder à l'élément de position `p` dans une liste `L` par `L[i]`. La numérotation commence à la position `0`. Bien sûr, l'indice `p` doit être légal, donc pas supérieur ou égal à la longueur de la listes."
   ]
  },
  {
   "cell_type": "code",
   "execution_count": null,
   "metadata": {},
   "outputs": [],
   "source": [
    "print(L5[2])\n",
    "\n",
    "L5[2] = \"One\"\n",
    "print(\"Nouvelle valeur de L5 :\", L5)"
   ]
  },
  {
   "cell_type": "markdown",
   "metadata": {},
   "source": [
    "On peut donc parcourir les éléments d'une liste `L` avec une boucle `for` différente de celle vue ci-dessus&nbsp;: en faisant parcourir à un entier toutes les positions de la liste `L`, entre `0` et `len(L)-1`, de la façon suivante :\n",
    "```Python\n",
    "for p in range(len(L)):\n",
    "    # traiter ici l'élément de L en position p,\n",
    "    # c'est-à-dire L[p].\n",
    "```"
   ]
  },
  {
   "cell_type": "markdown",
   "metadata": {},
   "source": [
    "**Tranches d'éléments successifs.** On peut extraire d'une liste une sous-liste composée d'éléments situés à des indices consécutifs&nbsp;:"
   ]
  },
  {
   "cell_type": "code",
   "execution_count": null,
   "metadata": {},
   "outputs": [],
   "source": [
    "print(L1[1:4])  # éléments de L1 entre l'indice 1 et l'indice 3.\n",
    "print(L1[2:])   # éléments de L1 de l'indice 2 jusqu'à la fin.\n",
    "print(L1[:-3])  # éléments de L1 sauf les 3 derniers (c'est-à-dire jusqu'à l'indice -3 exclu)."
   ]
  },
  {
   "cell_type": "markdown",
   "metadata": {},
   "source": [
    "**Concaténation de listes.** On peut enfin concaténer des listes par l'opérateur `+`."
   ]
  },
  {
   "cell_type": "code",
   "execution_count": null,
   "metadata": {},
   "outputs": [],
   "source": [
    "L1 = L1 + [17, 19]\n",
    "print(\"Nouvelle valeur de L1 :\", L1)"
   ]
  },
  {
   "cell_type": "markdown",
   "metadata": {},
   "source": [
    "## Traitement de chaînes de caractères\n",
    "On veut maintenant manipuler des textes. En `Python`, les textes sont **représentés** comme des listes de caractères. On peut affecter un tel texte à une variable, puis effectuer un traitement sur la variable. Pour entrer un texte littéralement, on met ce texte entre guillemets simples ou doubles. On ne peut le faire, cependant, que s'il n'y a pas de retour à la ligne dans le texte. Pour désigner une chaîne de caractères contenant un caractère «&nbsp;retour à la ligne&nbsp;», on délimite la chaîne par 3 guillemets (soit simples, soit doubles), comme dans l'exemple suivant&nbsp;:"
   ]
  },
  {
   "cell_type": "code",
   "execution_count": null,
   "metadata": {},
   "outputs": [],
   "source": [
    "mon_texte = '''Un texte sur deux lignes, \n",
    "sauvegardé dans une variable.'''\n",
    "\n",
    "print(mon_texte)"
   ]
  },
  {
   "cell_type": "markdown",
   "metadata": {},
   "source": [
    "En Python, un texte est facilement converti en liste de caractères. Il suffit pour cela d'utiliser la fonction `list`."
   ]
  },
  {
   "cell_type": "code",
   "execution_count": null,
   "metadata": {},
   "outputs": [],
   "source": [
    "ma_liste = list(mon_texte)\n",
    "print(ma_liste)"
   ]
  },
  {
   "cell_type": "markdown",
   "metadata": {},
   "source": [
    "On voit au passage que le retour à la ligne est considéré comme un caractère normal, et qu'il se note \n",
    "`\\n`. Dans notre exemple, c'est le caractère en position 26."
   ]
  },
  {
   "cell_type": "code",
   "execution_count": null,
   "metadata": {},
   "outputs": [],
   "source": [
    "ma_liste[26]"
   ]
  },
  {
   "cell_type": "markdown",
   "metadata": {},
   "source": [
    "Simplement, il est interprété par la fonction `print` comme le caractère de fin de ligne."
   ]
  },
  {
   "cell_type": "code",
   "execution_count": null,
   "metadata": {},
   "outputs": [],
   "source": [
    "print(ma_liste[26])"
   ]
  },
  {
   "cell_type": "markdown",
   "metadata": {},
   "source": [
    "On peut, inversement, convertir une liste de caractères en chaîne. La syntaxe est la suivante&nbsp;:"
   ]
  },
  {
   "cell_type": "code",
   "execution_count": null,
   "metadata": {},
   "outputs": [],
   "source": [
    "liste1 = ['L', 'i', 'c', 'e', 'n', 'c', 'e']\n",
    "print(liste1)\n",
    "chaine1 = ''.join(liste1) # concatène les chaînes de liste1\n",
    "print(chaine1)"
   ]
  },
  {
   "cell_type": "markdown",
   "metadata": {},
   "source": [
    "## Exercice 1\n",
    "Écrire une fonction `a_en_A` qui prend en argument une chaîne de caractères `s`, et renvoie une chaîne obtenue de `s` en remplaçant tous les 'a' en 'A'."
   ]
  },
  {
   "cell_type": "code",
   "execution_count": 1,
   "metadata": {},
   "outputs": [
    {
     "name": "stdout",
     "output_type": "stream",
     "text": [
      "Un test de lA fonction A_en_A\n"
     ]
    }
   ],
   "source": [
    "# Complétez la fonction suivante\n",
    "def a_en_A(s):\n",
    "    liste = list(s)\n",
    "    for i in range(len(liste)):\n",
    "        if liste[i] == 'a':\n",
    "            liste[i] = 'A'\n",
    "    return ''.join(liste)\n",
    "\n",
    "# Faites ici vos tests\n",
    "print(a_en_A(\"Un test de la fonction a_en_A\"))"
   ]
  },
  {
   "cell_type": "markdown",
   "metadata": {},
   "source": [
    "## Exercice 2\n",
    "1. Écrire une fonction `contient_z(s)` qui prend un paramètre `s` (une chaîne de caractères), et qui teste si cette chaîne `s` contient le caractère `z`. Si c'est le cas, elle devra simplement retourner la valeur `True`, par l'instruction `Python` suivante&nbsp;:\n",
    "```Python\n",
    "return True\n",
    "```"
   ]
  },
  {
   "cell_type": "code",
   "execution_count": 2,
   "metadata": {},
   "outputs": [
    {
     "name": "stdout",
     "output_type": "stream",
     "text": [
      "True\n",
      "False\n",
      "False\n"
     ]
    }
   ],
   "source": [
    "# Complétez la fonction suivante\n",
    "def contient_z(s):\n",
    "    liste = list(s)\n",
    "    # On utilise une variable compteur pour compter les 'z'.\n",
    "    compteur = 0  \n",
    "    for i in range(len(liste)):\n",
    "        if liste[i] == 'z':\n",
    "            compteur = compteur + 1\n",
    "    if compteur > 0:\n",
    "        return True\n",
    "    else:\n",
    "        return False\n",
    "\n",
    "\n",
    "# Faites ici vos tests\n",
    "print(contient_z(\"The quick brown fox jumps over the lazy dog.\"))\n",
    "print(contient_z(\"The quick brown fox jumps over the LAZY dog.\"))\n",
    "print(contient_z(\"The quick brown fox jumps over the lame duck.\"))"
   ]
  },
  {
   "cell_type": "markdown",
   "metadata": {},
   "source": [
    "2. On veut maintenant paramétrer le caractère à rechercher. Modifier la fonction précédente, pour que la nouvelle fonction, `contient(s, c)`, vérifie si la chaîne `s` contient le caractère `c` passé en paramètre."
   ]
  },
  {
   "cell_type": "code",
   "execution_count": 3,
   "metadata": {},
   "outputs": [
    {
     "name": "stdout",
     "output_type": "stream",
     "text": [
      "False\n",
      "True\n",
      "True\n",
      "True\n"
     ]
    }
   ],
   "source": [
    "# Complétez la fonction suivante\n",
    "def contient(s, c):\n",
    "    liste = list(s)\n",
    "    # On utilise une variable compteur pour compter les 'z'.\n",
    "    compteur = 0  \n",
    "    for i in range(len(liste)):\n",
    "        if liste[i] == c:\n",
    "            compteur = compteur + 1\n",
    "    if compteur > 0:\n",
    "        return True\n",
    "    else:\n",
    "        return False\n",
    "\n",
    "# Faites ici vos tests\n",
    "print(contient('Un test', 'a'))\n",
    "print(contient('Un test', 'e'))\n",
    "print(contient('Un test', ' '))\n",
    "print(contient('Un test', 't'))"
   ]
  },
  {
   "cell_type": "markdown",
   "metadata": {},
   "source": [
    "3. Modifier la fonction précédente, pour écrire une fonction `compte(s, c)` qui renvoie le **nombre de fois** que la chaîne `s` contient le caractère `c`."
   ]
  },
  {
   "cell_type": "code",
   "execution_count": 4,
   "metadata": {},
   "outputs": [
    {
     "name": "stdout",
     "output_type": "stream",
     "text": [
      "0\n",
      "1\n",
      "1\n",
      "2\n"
     ]
    }
   ],
   "source": [
    "# Complétez la fonction suivante\n",
    "def compte(s, c):\n",
    "    liste = list(s)\n",
    "    # On utilise une variable compteur pour compter les 'z'.\n",
    "    compteur = 0  \n",
    "    for i in range(len(liste)):\n",
    "        if liste[i] == c:\n",
    "            compteur = compteur + 1\n",
    "    return compteur\n",
    "\n",
    "# Faites ici vos tests\n",
    "print(compte('Un test', 'a'))\n",
    "print(compte('Un test', 'e'))\n",
    "print(compte('Un test', ' '))\n",
    "print(compte('Un test', 't'))"
   ]
  },
  {
   "cell_type": "markdown",
   "metadata": {},
   "source": [
    "4. Modifier à nouveau la fonction précédente pour faire une fonction `premiere_occurrence(s, c)`, qui  retourne la position du premier emplacement du caractère c dans la chaîne `s`. Si le caractère c n’est pas présent, la fonction retournera la valeur -1."
   ]
  },
  {
   "cell_type": "code",
   "execution_count": null,
   "metadata": {},
   "outputs": [],
   "source": [
    "# Complétez la fonction suivante\n",
    "def premiere_occurrence(s, c):\n",
    "    liste = list(s)\n",
    "    for i in range(len(liste)):\n",
    "        if liste[i] == c:\n",
    "            return i\n",
    "    return -1\n",
    "\n",
    "# Faites ici vos tests\n",
    "print(compte('Un test', 'a'))\n",
    "print(compte('Un test', 'e'))\n",
    "print(compte('Un test', ' '))\n",
    "print(compte('Un test', 't'))"
   ]
  },
  {
   "cell_type": "markdown",
   "metadata": {},
   "source": [
    "## Exercice 3\n",
    "Écrire une fonction `sous_chaine(s1, s2)` qui retourne le nombre de fois que la chaîne `s2` contient la chaîne `s1`. Par exemple, la chaîne `ababa` contient \n",
    "\n",
    "- zéro fois la chaîne `aaa`,\n",
    "\n",
    "- une fois la chaîne `bab` (en position 2), et\n",
    "\n",
    "- deux fois la chaîne `aba` (notez que ces deux occurrences se chevauchent)."
   ]
  },
  {
   "cell_type": "code",
   "execution_count": null,
   "metadata": {},
   "outputs": [],
   "source": [
    "def sous_chaine(s1, s2):\n",
    "    pass\n",
    "\n",
    "print(sous_chaine('ababa', 'bbb'))\n",
    "print(sous_chaine('ababa', 'bab'))\n",
    "print(sous_chaine('ababa', 'aba'))"
   ]
  },
  {
   "cell_type": "markdown",
   "metadata": {},
   "source": [
    "## Exercice 4\n",
    "\n",
    "1. Écrire une fonction `nlignes(t)` qui compte le nombre de lignes du texte t. Vous pouvez reprendre l’une des fonctions de l'exercice 2."
   ]
  },
  {
   "cell_type": "code",
   "execution_count": null,
   "metadata": {},
   "outputs": [],
   "source": [
    "def nlignes(t):\n",
    "    pass"
   ]
  },
  {
   "cell_type": "markdown",
   "metadata": {},
   "source": [
    "2. Écrire une fonction `nmots(t)` qui compte le nombre de mots du texte t. On pourra utiliser les fonctions suivantes, qui sont pré-définies&nbsp;:\n",
    "- `isspace(c)`, qui teste si le caractère `c` est un espace (soit un espace, soit un caractère de tabulation, soit un caractère `\\n` de retour à la ligne),\n",
    "\n",
    "- `isalpha(c)`, qui teste si `c` est une lettre de l’alphabet, majuscule ou minuscule, et éventuellement accentuée."
   ]
  },
  {
   "cell_type": "code",
   "execution_count": null,
   "metadata": {},
   "outputs": [],
   "source": [
    "def nmots(t):\n",
    "    pass"
   ]
  },
  {
   "cell_type": "markdown",
   "metadata": {},
   "source": [
    "Pour tester les deux fonctions ci-dessus, on pourra utiliser un fichier texte `Ulysse.txt` et la suite d’instructions suivante, après avoir remplacé les ‘...’ par le chemin d’accès au fichier Ulysse.txt&nbsp;:"
   ]
  },
  {
   "cell_type": "code",
   "execution_count": null,
   "metadata": {},
   "outputs": [],
   "source": [
    "import os\n",
    "f = open('Ulysse.txt', 'r', encoding = \"UTF8\")\n",
    "t = f.read()\n",
    "print(\"nombre de lignes : \", nlignes(t), \"nombre de mots : \", nmots(t))\n",
    "f.close()"
   ]
  },
  {
   "cell_type": "markdown",
   "metadata": {},
   "source": [
    "### Exercice 4\n",
    "On représente un point $P$ dans le plan par un couple $(x,y)$, où $x$\n",
    "est l'abscisse de $P$ et où $y$ est son ordonnée. En Python, si `P` est\n",
    "le couple `(x,y)`, on accède à la valeur de `x` par `P[0]` et à\n",
    "celle de `y` par `P[1]`."
   ]
  },
  {
   "cell_type": "markdown",
   "metadata": {},
   "source": [
    "1.  Écrire une fonction `distance(P1, P2)` qui prend en arguments deux\n",
    "points $P_1$ et $P_2$ et qui retourne la distance entre ces\n",
    "points. Pour utiliser la fonction _racine carrée_, insérer la\n",
    "ligne `from math import *` avant l'utilisation. La fonction\n",
    "racine carrée est alors accessible par `sqrt`.\n",
    "\n",
    "**Rappel&nbsp;:** la distance entre deux points $(x_1,y_1)$ et $(x_2,y_2)$\n",
    "est $\\sqrt{(x_1-x_2)^2+(y_1-y_2)^2}$."
   ]
  },
  {
   "cell_type": "code",
   "execution_count": null,
   "metadata": {},
   "outputs": [],
   "source": [
    "from math import *\n",
    "\n",
    "def distance(P1, P2):\n",
    "    pass\n",
    "\n",
    "# Tests\n",
    "print(distance((1,1), (1,1)))  # résultat attendu : 0.0\n",
    "print(distance((0,1), (1,1)))  # résultat attendu : 1.0\n",
    "print(distance((0,0), (1,1)))  # résultat attendu : 1.4142135623730951"
   ]
  },
  {
   "cell_type": "markdown",
   "metadata": {},
   "source": [
    "2.  Écrire une fonction `distance_minimale(L)` prenant en\n",
    "    argument une liste `L` de points du plan et qui retourne\n",
    "    `None` si cette liste a moins de deux éléments, et deux\n",
    "    points $P$ et $Q$ de la liste situés à des positions distinctes dans\n",
    "    `L` et dont la distance est minimale parmi toutes les\n",
    "    distances entre points situés à des positions distinctes de\n",
    "    `L`.\n",
    "    \n",
    "    **Rappels.** On accède à la longueur d'une liste `L` par\n",
    "    `len(L)`. Connaissant une position `i` dans la liste, entre\n",
    "    0 et `len(L)-1`, on accède à l'élément à cette position par\n",
    "    `L[i]`. Enfin, on peut parcourir toutes les positions grâce à une\n",
    "    boucle `for i in range(len(L))`."
   ]
  }
 ],
 "metadata": {
  "kernelspec": {
   "display_name": "385",
   "language": "python",
   "name": "385"
  },
  "language_info": {
   "codemirror_mode": {
    "name": "ipython",
    "version": 3
   },
   "file_extension": ".py",
   "mimetype": "text/x-python",
   "name": "python",
   "nbconvert_exporter": "python",
   "pygments_lexer": "ipython3",
   "version": "3.8.5"
  },
  "name": "TP_chaines.ipynb"
 },
 "nbformat": 4,
 "nbformat_minor": 4
}
