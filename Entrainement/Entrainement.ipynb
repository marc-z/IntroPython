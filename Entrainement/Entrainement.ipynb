{
 "cells": [
  {
   "cell_type": "markdown",
   "metadata": {},
   "source": [
    "# Entraînement au TP noté 2020.\n"
   ]
  },
  {
   "cell_type": "markdown",
   "metadata": {},
   "source": [
    "PRÉNOM : \n",
    "\n",
    "NOM :"
   ]
  },
  {
   "cell_type": "markdown",
   "metadata": {},
   "source": [
    "Pour les exercices 1, 2 et 3 qui demandent uniquement des réponses rédigées en français et pas de programme en Python, répondez directement dans ce notebook, dans les blocs de texte. Pour l'exercice 4, répondez dans les blocs de code Python.\n",
    "\n",
    "Dans les deux cas, double-cliquez dans les blocs de réponse pour les éditer."
   ]
  },
  {
   "cell_type": "markdown",
   "metadata": {},
   "source": [
    "**Sauvegardez régulièrement votre programme sous forme Notebook** en utilisant le menu File -> Download as :\n",
    "![Télécharger](save.png)\n",
    "Cela sauvegarde tout le document dans un fichier.\n",
    "\n",
    "En cas de déconnexion ou de perte de votre travail, vous pourrez restaurer une copie ainsi effectuée, de la façon suivante : le menu File -> Open vous permet de voir les fichiers utilisés.\n",
    "![Ouvr](open.png)\n",
    "Cliquez ensuite sur le bouton Upload, à droite :\n",
    "![Upload](upload.png)\n",
    "Choisissez le fichier que vous avez sauvegardé, puis, rechargez-le en cliquant sur le nouveau bouton Upload apparu :\n",
    "![Upload](upload2.png)"
   ]
  },
  {
   "cell_type": "markdown",
   "metadata": {},
   "source": [
    "## Exercice 1\n",
    "1. Quelle est la valeur représentée en base 2 par 1001? Détaillez le calcul vous ayant permis d'arriver à votre réponse."
   ]
  },
  {
   "cell_type": "markdown",
   "metadata": {},
   "source": [
    "Réponse :"
   ]
  },
  {
   "cell_type": "markdown",
   "metadata": {},
   "source": [
    "2. Inversement, comment l’entier 18 se représente-t-il en base 2 ? Expliquez le raisonnement ayant conduit à votre réponse."
   ]
  },
  {
   "cell_type": "markdown",
   "metadata": {},
   "source": [
    "Réponse :"
   ]
  },
  {
   "cell_type": "markdown",
   "metadata": {},
   "source": [
    "## Exercice 2\n",
    "Soit les graphes orientés $G_1$ et $G_2$ (avec une fonction de pondération sur les arcs) représentés ci-dessous.\n",
    "![Deux graphes](Graphes.png)\n",
    "Pour chacun de ces deux graphes, on souhaite calculer les plus courts chemins à partir du sommet $a$.\n",
    "\n",
    "1. Dites quel algorithme il faut choisir entre Bellman et Dijkstra pour chacun de ces deux graphes en justifiant votre choix en quelques mots."
   ]
  },
  {
   "cell_type": "markdown",
   "metadata": {},
   "source": [
    "Réponse :"
   ]
  },
  {
   "cell_type": "markdown",
   "metadata": {},
   "source": [
    "2. Choisissez l’un des deux graphes et calculez ses plus courts chemins. On donnera pour chaque étape les modifications de la plus courte distance depuis a. Donnez également la liste des arcs formant l’arborescence des plus courts chemins, dans l’ordre lexicographique (par exemple si vous gardez les arcs $(a,b)$, $(b,c)$, $(a,d)$, l’ordre devra être $(a,b), (a,d), (b,c)$).\n"
   ]
  },
  {
   "cell_type": "markdown",
   "metadata": {},
   "source": [
    "Réponse : "
   ]
  },
  {
   "cell_type": "markdown",
   "metadata": {},
   "source": [
    "## Exercice 3\n",
    "1. Expliquez ce que fait le programme suivant, instruction par instruction. En particulier, après chaque instruction, donnez la valeur de `a` et celle de `b`.\n",
    "```Python\n",
    "a = 1\n",
    "b = 2\n",
    "a = a + b\n",
    "b = a - b\n",
    "a = a - b\n",
    "```"
   ]
  },
  {
   "cell_type": "markdown",
   "metadata": {},
   "source": [
    "Réponse :"
   ]
  },
  {
   "cell_type": "markdown",
   "metadata": {},
   "source": [
    "2. Plus généralement, on suppose que `a` a une valeur de départ $A$ et que `b` a une valeur de départ $B$. Donner la valeur de `a` et celle de `b` en fonction de $A$ et $B$ après chacune des instructions suivantes :\n",
    "```Python\n",
    "a = a + b\n",
    "b = a - b\n",
    "a = a - b\n",
    "```"
   ]
  },
  {
   "cell_type": "markdown",
   "metadata": {},
   "source": [
    "Réponse :"
   ]
  },
  {
   "cell_type": "markdown",
   "metadata": {},
   "source": [
    "3. De façon générale, quel est l’effet de ces trois instructions sur les valeurs de `a` et `b` ?"
   ]
  },
  {
   "cell_type": "markdown",
   "metadata": {},
   "source": [
    "Réponse :"
   ]
  },
  {
   "cell_type": "markdown",
   "metadata": {},
   "source": [
    "# Exercice 4\n",
    "Vous disposez d’une fonction `caractere_vers_majuscule` prenant en argument\n",
    "un caractère `c` et renvoyant :\n",
    "- le caractère `c` lui-même s’il n’est pas une minuscule,\n",
    "- le caractère majuscule correspondant à `c` si `c` est une lettre minuscule.\n",
    "\n",
    "Par exemple :\n",
    "```Python\n",
    ">>> d = caractere_vers_majuscule('a')\n",
    ">>> print(d)\n",
    "A\n",
    ">>> d = caractere_vers_majuscule('B')\n",
    ">>> print(d)\n",
    "B\n",
    ">>> d = caractere_vers_majuscule('%')\n",
    ">>> print(d)\n",
    "%\n",
    "```"
   ]
  },
  {
   "cell_type": "markdown",
   "metadata": {},
   "source": [
    "1. En utilisant cette fonction, écrivez une autre fonction chaine_en_majuscules(str) qui prend en argument une chaîne de caractères str, et affiche avec la fonction print la même chaîne dans laquelle chaque lettre minuscule de la chaîne str a éte transformée en la majuscule correspondante (les autres lettres étant affichées comme elles apparaissent dans la chaîne str).\n",
    "\n",
    "**Exemple.**\n",
    "```Python\n",
    ">>> chaine_en_majuscules('Ceci est un essai...')\n",
    "CECI EST UN ESSAI...\n",
    "```\n",
    "**Rappels.**\n",
    "- Vous pouvez transformer la chaîne str en liste de caractères de la façon suivante : `L = list(str)`.\n",
    "\n",
    "- Les positions des lettres individuelles de la chaîne `str` ou de la liste `L` vont de `0` à `len(str)-1` (ou `len(L)-1`). Vous pouvez ainsi parcourir ces positions à l’aide de la boucle `for`.\n",
    "\n",
    "- On peut accéder ou modifier l’élément d’une liste `L` situé en position `k` en utilisant la notation `L[k]`.\n",
    "\n",
    "**Note.** Pour éviter que la fonction print n’affiche un retour à la ligne après chaque affichage demandé, il faut l’utiliser avec un dernier argument `end=''`. Par exemple,\n",
    "```Python\n",
    ">>> for i in range(4):\n",
    "        print('a', end='')\n",
    "aaaa\n",
    "```"
   ]
  },
  {
   "cell_type": "code",
   "execution_count": null,
   "metadata": {},
   "outputs": [],
   "source": [
    "from string import *\n",
    "\n",
    "def caractere_vers_majuscule(c):\n",
    "    if len(c) > 1 or not c.isalpha():\n",
    "        return c\n",
    "    return c.upper()\n",
    "\n",
    "# Écrire la fonction chaine_en_majuscule ici.\n",
    "def chaine_en_majuscules(str):\n",
    "    pass\n",
    "\n",
    "# Testez votre fonction ici\n",
    "chaine_en_majuscules('Ceci est un essai...')"
   ]
  },
  {
   "cell_type": "markdown",
   "metadata": {},
   "source": [
    "2. Écrivez votre propre version de `caractere_vers_majuscule(c)` sans utiliser la fonction `upper()` (en ignorant les caractères accentués, le ç, etc.). Pour cela, utilisez le code fourni ci-dessous. Il définit deux chaînes de caractères minuscules et majuscules, ainsi que la fonction position, qui renvoie la position d’une lettre dans l’alphabet entre 0 et 25 (ou −1 si la lettre n’est pas une minuscule entre `'a'` et `'z'`).\n",
    "```Python\n",
    "minuscules = \"abcdefghijklmnopqrstuvwxyz\"\n",
    "majuscules = \"ABCDEFGHIJKLMNOPQRSTUVWXYZ\"\n",
    "def position(c):\n",
    "   for i in range(len(minuscules)):\n",
    "       if lettres[i] == c:\n",
    "           return i\n",
    "return -1\n",
    "```"
   ]
  },
  {
   "cell_type": "code",
   "execution_count": null,
   "metadata": {},
   "outputs": [],
   "source": [
    "minuscules = \"abcdefghijklmnopqrstuvwxyz\"\n",
    "majuscules = \"ABCDEFGHIJKLMNOPQRSTUVWXYZ\"\n",
    "def position(c):\n",
    "    for i in range(len(minuscules)):\n",
    "        if lettres[i] == c:\n",
    "            return i\n",
    "    return -1\n",
    "\n",
    "# Complétez ici la fonction caractere_vers_majuscule\n",
    "def caractere_vers_majuscule(c):\n",
    "    pass"
   ]
  }
 ],
 "metadata": {
  "kernelspec": {
   "display_name": "Python 3",
   "language": "python",
   "name": "python3"
  },
  "language_info": {
   "codemirror_mode": {
    "name": "ipython",
    "version": 3
   },
   "file_extension": ".py",
   "mimetype": "text/x-python",
   "name": "python",
   "nbconvert_exporter": "python",
   "pygments_lexer": "ipython3",
   "version": "3.8.5"
  }
 },
 "nbformat": 4,
 "nbformat_minor": 4
}
