{
 "cells": [
  {
   "cell_type": "markdown",
   "metadata": {
    "collapsed": false
   },
   "source": [
    "# Licence 3 - Culture Humaniste et Scientifique – Informatique\n",
    "# TP noté 2020–2021\n",
    "\n",
    "## Tout document autorisé"
   ]
  },
  {
   "cell_type": "markdown",
   "metadata": {
    "collapsed": false
   },
   "source": [
    "PRÉNOM : \n",
    "\n",
    "NOM : "
   ]
  },
  {
   "cell_type": "markdown",
   "metadata": {
    "collapsed": false
   },
   "source": [
    "Vous pouvez rendre votre travail de deux façons :\n",
    "\n",
    "- Soit répondant aux questions **sur feuille**, puis en les **scannant** ou en les **photographiant**.\n",
    "\n",
    "- Soit en répondant **directement dans le notebook**. Dans ce cas, pour les exercices 1, 2 et 3 qui demandent uniquement des réponses rédigées en français et pas de programme en Python, répondez directement dans les blocs de texte prévus à cet effet. Pour l'exercice 4, répondez dans le dernier bloc de code Python. Dans les deux cas, double-cliquez dans les blocs de réponse pour les éditer.\n",
    "\n",
    "Même si vous rendez votre travail sur feuille, <span style=\"color:##4a70ef;\">il est conseillé d'utiliser le notebook pour tester le code du dernier exercice.</span>\n",
    "\n",
    "À **<span style=\"color:#ef304a;\">15h30</span>**, envoyez votre travail (copie scannée ou notebook) par mail aux adresses d'[O. Baudon (olivier.baudon@labri.fr) et M. Zeitoun (mz@labri.fr)](mailto:olivier.baudon@labri.fr,mz@labri.fr?subject=[CHS]%20Rendu%20TP%20noté) avec comme sujet&nbsp;: `[CHS] Rendu TP noté`."
   ]
  },
  {
   "cell_type": "markdown",
   "metadata": {
    "collapsed": false
   },
   "source": [
    "Si vous utilisez ce notebook pour répondre :\n",
    " \n",
    "**Sauvegardez régulièrement votre programme sous forme Notebook** en utilisant le menu File -> Download as&nbsp;:\n",
    "![Télécharger](save.png)\n",
    "Cela sauvegarde tout le document dans un fichier.\n",
    "\n",
    "En cas de déconnexion ou de perte de votre travail, vous pourrez restaurer une copie ainsi effectuée, de la façon suivante&nbsp;: le menu File -> Open vous permet de voir les fichiers utilisés.\n",
    "![Ouvr](open.png)\n",
    "Cliquez ensuite sur le bouton Upload, à droite&nbsp;:\n",
    "![Upload](upload.png)\n",
    "Choisissez le fichier que vous avez sauvegardé, puis, rechargez-le en cliquant sur le nouveau bouton Upload apparu&nbsp;:\n",
    "![Upload](upload2.png)\n",
    "Il suffit maintenant d'ouvrir le fichier que vous ave ajouté."
   ]
  },
  {
   "cell_type": "markdown",
   "metadata": {
    "collapsed": false
   },
   "source": [
    "## Exercice 1\n",
    "1. Quelle est la valeur représentée en base 2 par 1100? Détaillez le calcul vous ayant permis d'arriver à votre réponse."
   ]
  },
  {
   "cell_type": "markdown",
   "metadata": {
    "collapsed": false
   },
   "source": [
    "Réponse :"
   ]
  },
  {
   "cell_type": "markdown",
   "metadata": {
    "collapsed": false
   },
   "source": [
    "2. Inversement, comment l'entier 24 se représente-t-il en base 2 ? Expliquez le raisonnement ayant conduit à votre réponse."
   ]
  },
  {
   "cell_type": "markdown",
   "metadata": {
    "collapsed": false
   },
   "source": [
    "Réponse :"
   ]
  },
  {
   "cell_type": "markdown",
   "metadata": {
    "collapsed": false
   },
   "source": [
    "## Exercice 2\n",
    "1. Expliquez ce que fait le programme suivant, instruction par instruction. En particulier, après chaque instruction, donnez la valeur de `x` et celle de `y`.\n",
    "```Python\n",
    "x = 3\n",
    "y = 0\n",
    "for i in range(x):\n",
    "        y = y + 2\n",
    "x = y\n",
    "```"
   ]
  },
  {
   "cell_type": "markdown",
   "metadata": {
    "collapsed": false
   },
   "source": [
    "Réponse : "
   ]
  },
  {
   "cell_type": "markdown",
   "metadata": {
    "collapsed": false
   },
   "source": [
    "2. Plus généralement, on suppose que `x` a une valeur de départ `A` et que `y` a une valeur de départ `0`. Donner la valeur finale de `x` en fonction de `A` après les instructions suivantes&nbsp;:\n",
    "```Python\n",
    "for i in range(x):\n",
    "        y = y + 2\n",
    "x = y\n",
    "```"
   ]
  },
  {
   "cell_type": "markdown",
   "metadata": {
    "collapsed": false
   },
   "source": [
    "Réponse :"
   ]
  },
  {
   "cell_type": "markdown",
   "metadata": {
    "collapsed": false
   },
   "source": [
    "## Exercice 3\n",
    "Soit les graphes orientés $G_1$ et $G_2$ (avec une fonction de pondération sur les arcs) représentés ci-dessous.\n",
    "![Deux graphes](Graphes.png)\n",
    "<br>Pour chacun de ces deux graphes, on souhaite calculer les plus courts chemins <span style=\"color:##4a70ef;\">**à partir du sommet $a$**</span>.\n",
    "\n",
    "1. Dites quel algorithme il faut choisir entre Bellman et Dijkstra pour chacun de ces deux graphes en justifiant votre choix en quelques mots."
   ]
  },
  {
   "cell_type": "markdown",
   "metadata": {
    "collapsed": false
   },
   "source": [
    "Réponse :"
   ]
  },
  {
   "cell_type": "markdown",
   "metadata": {
    "collapsed": false
   },
   "source": [
    "2. Choisissez l'un des deux graphes et calculez ses plus courts chemins. On donnera pour chaque étape les modifications de la plus courte distance depuis $a$. Donnez également la liste des arcs formant l'arborescence des plus courts chemins, dans l'ordre lexicographique (par exemple si vous gardez les arcs $(a,b)$, $(b,c)$, $(a,d)$, l'ordre devra être $(a,b), (a,d), (b,c)$).\n"
   ]
  },
  {
   "cell_type": "markdown",
   "metadata": {
    "collapsed": false
   },
   "source": [
    "Réponse :"
   ]
  },
  {
   "cell_type": "markdown",
   "metadata": {
    "collapsed": false
   },
   "source": [
    "# Exercice 4\n",
    "Les instructions suivantes\n",
    "```Python\n",
    "for i in range(10):\n",
    "    print('z', end='')\n",
    "```\n",
    "permettent d'afficher 10 caractères `z`, sans espace ni retour à la ligne entre eux&nbsp;:\n",
    "                                    zzzzzzzzzz\n",
    "\n",
    "Le but de `end=''` est justement de ne pas effectuer de retour à la ligne entre l'affichage de deux caractères `z`.\n",
    "\n",
    "1. Écrire des instructions permettant d'afficher&nbsp;:<br>\n",
    "                                    zzzzzzzzzz\n",
    "                                    zzzzzzzzzz\n",
    "                                    zzzzzzzzzz\n",
    "                                    zzzzzzzzzz\n",
    "\n",
    "\n",
    "2. Écrire une fonction `ligne(c)` permettant d'afficher une ligne de `c` caractères `z`, où `c` est un nombre donné en paramètre. Par exemple `ligne(c=4)` affichera&nbsp;:<br>\n",
    "                                    zzzz \n",
    "\n",
    "3. Modifier la fonction de la question précédente pour pouvoir afficher une ligne composée de caractères précisés dans un deuxième paramètre de la fonction&nbsp;: `ligne2(c, carac)` affiche une ligne faite de `c` caractères `carac`. Par exemple, `ligne2(c=10, carac='/')` affichera&nbsp;:\n",
    "                                    //////////\n",
    "\n",
    "\n",
    "4. En utilisant soit la fonction `ligne2`, soit deux boucles `for` imbriquées, écrire une fonction `rectangle(l, c, carac)` qui affiche un rectangle de `l` lignes et `c` colonnes fait de caractères `carac`. Par exemple, `rectangle(l=3, c=10, carac='/')` affichera&nbsp;:<br>\n",
    "                                    //////////\n",
    "                                    //////////\n",
    "                                    //////////\n",
    "    et `rectangle(l=2, c=5, carac='a')` affichera&nbsp;:<br>\n",
    "                                    aaaaa\n",
    "                                    aaaaa\n",
    "\n",
    "5. Écrire une suite d'instructions permettant d'afficher le motif suivant&nbsp;:\n",
    "                                    ∗∗∗∗∗\n",
    "                                    ∗∗∗∗\n",
    "                                    ∗∗∗\n",
    "                                    ∗∗\n",
    "                                    ∗\n",
    "   Vous pouvez ou non utiliser la fonction `ligne2`.<br>\n",
    "\n",
    "\n",
    "6. Écrire une fonction `triangle(n)` permettant d'afficher un triangle fait de caractères `*` dont la première ligne a `n` caractères, la deuxième en a `n−1`, la troisième `n−2`, etc. et la n-ème ligne a `1` caractère. Par exemple, le triangle de la question précédente pourra être créé par l'appel `triangle(n=5)`.<br>**Indication**. Utiliser à nouveau la fonction ligne2, ou deux boucles imbriquées.\n"
   ]
  },
  {
   "cell_type": "code",
   "execution_count": null,
   "metadata": {
    "collapsed": false
   },
   "outputs": [],
   "source": [
    "# Exercice 4\n",
    "# Vous pouvez ajouter des tests si besoin.\n",
    "\n",
    "# Question 1\n",
    "\n",
    "# Question 2\n",
    "def ligne(c):\n",
    "    pass\n",
    "\n",
    "# Question 3\n",
    "def ligne2(c, carac):\n",
    "    pass\n",
    "\n",
    "# Question 4\n",
    "def rectangle(l, c, carac):\n",
    "    pass\n",
    "\n",
    "# Question 5\n",
    "\n",
    "# Question 6\n",
    "def triangle(n):\n",
    "    pass"
   ]
  }
 ],
 "metadata": {
  "kernelspec": {
   "argv": [
    "python",
    "-m",
    "ipykernel_launcher",
    "-f",
    "{connection_file}"
   ],
   "display_name": "Python 3",
   "env": null,
   "interrupt_mode": "signal",
   "language": "python",
   "metadata": null,
   "name": "python3"
  },
  "language_info": {
   "codemirror_mode": {
    "name": "ipython",
    "version": 3
   },
   "file_extension": ".py",
   "mimetype": "text/x-python",
   "name": "python",
   "nbconvert_exporter": "python",
   "pygments_lexer": "ipython3",
   "version": "3.8.5"
  },
  "name": "TP-note-2020.ipynb"
 },
 "nbformat": 4,
 "nbformat_minor": 4
}
