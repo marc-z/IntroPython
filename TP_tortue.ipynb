{
 "cells": [
  {
   "cell_type": "markdown",
   "metadata": {
    "collapsed": false
   },
   "source": [
    "# TP d'informatique: fonctions et boucles pour dessiner #\n",
    "Dans ce TP, nous allons utiliser les fonctions et les boucles vues en cours pour réaliser des dessins. Afin d'effectuer ces dessins, on dispose d'une «&nbsp;tortue&nbsp;», qui peut se déplacer sur un plan. Cette tortue laisse une trace de ses déplacements. Ainsi, on réalise les dessins voulus en demandant, par des instructions en langage `Python` à la tortue de se déplacer. Pour cela, exécutez la cellule suivante, qui donne accès aux instructions expliquées ci-après.\n",
    "\n",
    "**Rappel&nbsp;:** Pour exécuter une cellule, cliquez dans la cellule et \n",
    "- soit utilisez le bouton `Exécuter` ci-dessus,\n",
    "- soit tapez `Shift-Entrée` (`Shift` est la touche de passage temporaire en majuscules).\n",
    "\n",
    "Ce raccourci clavier exécute la cellule, et positionne le curseur dans la cellule suivante. Vous pouvez utiliser ce même raccourci sur une cellule de texte pour passer à la cellule suivante."
   ]
  },
  {
   "cell_type": "code",
   "execution_count": null,
   "metadata": {
    "collapsed": false
   },
   "outputs": [],
   "source": [
    "from tortue import *"
   ]
  },
  {
   "cell_type": "markdown",
   "metadata": {
    "collapsed": false
   },
   "source": [
    "L'exécution de la cellule précédente ne produit pas de résultat visible (à part que le compteur d'exécution de la cellule, qui se trouve entre les crochets à gauche de la cellule, après le mot `Entrée` ou `In`, doit passer à `1`). Mais une fois la cellule évaluée, vous avez accès aux instructions suivantes.\n",
    "\n",
    "| Instruction | Signification | Exemples d'utilisation |\n",
    "|:-|:-|:-|\n",
    "| `tableau` | Ouvre une fenêtre graphique dont les dimensions<br>(largeur et hauteur) peuvent être données en argument.<br> Une seule fenêtre est visible à un instant&nbsp;: celle<br> correspondantà la dernière instruction `tableau` exécutée.<br> Le tableau apparaît dans le navigateur à droite de ce texte.<br> Ajustez la largeur et la hauteur si celle par défaut<br> ne convient pas à la taille de votre écran. | `tableau()`<br>`tableau(largeur=300, hauteur=750)` |\n",
    "| `avancer` | Avance de la distance donnée en argument,<br>dans la direction actuelle.<br>Si la distance est négative, la tortue recule. | `avancer(100)`<br>`avancer(longueur=100) # idem`<br>`avancer(-50)` |\n",
    "| `tourner` | Tourne de l'angle donné en argument.<br>L'angle peut être positif ou négatif.  | `angle(45)`<br>`angle(-90)` |\n",
    "| `aller` | Va a une position déterminée par ses coordonnées. | `aller(30, 46)`<br>`aller(x=30, y=46) # idem` |\n",
    "| `regarder_vers` | Positionne l'angle de la tortue.  | `regarder_vers(125)` |\n",
    "| `effacer` | Efface la fenêtre graphique et repositionne la<br>tortue au centre. | `effacer()` |\n",
    "| `lever_crayon` | Lève le crayon : les déplacements de la tortue<br>ne produisent plus de marque jusqu'à ce que le<br>crayon soit reposé. | `lever_crayon()` |\n",
    "| `poser_crayon` | Pose le crayon : les déplacements de la tortue<br>produisent une marque, jusqu'à ce que le crayon <br>soit levé. | `poser_crayon()` |\n",
    "| `changer_couleur` | Change la couleur du crayon. On doit donner 3 <br>arguments, entre 0 et 255 :<br>- la composante de rouge,<br>- la composante de vert,<br>- la composante de bleu.<br><br>La couleur obtenue est un mélange des trois couleurs.<br>0 signifie l'absence de couleur et 255 la présence<br>maximale. | `# Passe en rouge`<br>`changer_couleur(rouge=255, vert=0, bleu=0)` <br>`# Passe en vert`<br>`changer_couleur(rouge=0, vert=255, bleu=0)`<br>`# Passe en bleu`<br>`changer_couleur(rouge=0, vert=0, bleu=255)`<br>`# Passe en jaune`<br>`changer_couleur(rouge=252, vert=258, bleu=41)`<br>`# Passe en noir`<br>`changer_couleur(rouge=0, vert=0, bleu=0)` |\n"
   ]
  },
  {
   "cell_type": "markdown",
   "metadata": {
    "collapsed": false
   },
   "source": [
    "## Exercice 1\n",
    "Familiarisez-vous avec ces instructions. Pour cela, exécutez, modifiez et ré-exécutez autant de fois que nécessaire les cellules suivantes.<br>**Rappel&nbsp;:** tout ce qui se trouve après un signe `#` jusqu'à la fin de la ligne est ignoré par `Python`. Cela permet d'insérer des commentaires en français dans les programmes."
   ]
  },
  {
   "cell_type": "code",
   "execution_count": null,
   "metadata": {
    "collapsed": false
   },
   "outputs": [],
   "source": [
    "# Ajustez les dimensions pour avoir une fenêtre de taille convenable.\n",
    "# Une fois créé, vous pourrez déplacer le tableau à la souris, à l'intérieur\n",
    "# de la fenêtre de votre navigateur.\n",
    "tableau(450,750)"
   ]
  },
  {
   "cell_type": "code",
   "execution_count": null,
   "metadata": {
    "collapsed": false
   },
   "outputs": [],
   "source": [
    "# Modifiez éventuellement la distance\n",
    "avancer(150)"
   ]
  },
  {
   "cell_type": "code",
   "execution_count": null,
   "metadata": {
    "collapsed": false
   },
   "outputs": [],
   "source": [
    "tourner(-60) # angle en degré, vers la droite si négatif"
   ]
  },
  {
   "cell_type": "code",
   "execution_count": null,
   "metadata": {
    "collapsed": false
   },
   "outputs": [],
   "source": [
    "avancer(50)"
   ]
  },
  {
   "cell_type": "code",
   "execution_count": null,
   "metadata": {
    "collapsed": false
   },
   "outputs": [],
   "source": [
    "effacer()"
   ]
  },
  {
   "cell_type": "code",
   "execution_count": null,
   "metadata": {
    "collapsed": false
   },
   "outputs": [],
   "source": [
    "aller(100,200)"
   ]
  },
  {
   "cell_type": "code",
   "execution_count": null,
   "metadata": {
    "collapsed": false
   },
   "outputs": [],
   "source": [
    "regarder_vers(180)"
   ]
  },
  {
   "cell_type": "code",
   "execution_count": null,
   "metadata": {
    "collapsed": false
   },
   "outputs": [],
   "source": [
    "lever_crayon()"
   ]
  },
  {
   "cell_type": "code",
   "execution_count": null,
   "metadata": {
    "collapsed": false
   },
   "outputs": [],
   "source": [
    "avancer(100)"
   ]
  },
  {
   "cell_type": "code",
   "execution_count": null,
   "metadata": {
    "collapsed": false
   },
   "outputs": [],
   "source": [
    "poser_crayon()"
   ]
  },
  {
   "cell_type": "code",
   "execution_count": null,
   "metadata": {
    "collapsed": false
   },
   "outputs": [],
   "source": [
    "avancer(100)"
   ]
  },
  {
   "cell_type": "code",
   "execution_count": null,
   "metadata": {
    "collapsed": false
   },
   "outputs": [],
   "source": [
    "tourner(120)"
   ]
  },
  {
   "cell_type": "code",
   "execution_count": null,
   "metadata": {
    "collapsed": false
   },
   "outputs": [],
   "source": [
    "changer_couleur(250,50,200)"
   ]
  },
  {
   "cell_type": "code",
   "execution_count": null,
   "metadata": {
    "collapsed": false
   },
   "outputs": [],
   "source": [
    "avancer(100)"
   ]
  },
  {
   "cell_type": "markdown",
   "metadata": {
    "collapsed": false
   },
   "source": [
    "## Exercice 2\n",
    "Écrire une suite d'instructions pour tracer un carré dont les côtés ont taille 100."
   ]
  },
  {
   "cell_type": "code",
   "execution_count": null,
   "metadata": {
    "collapsed": false
   },
   "outputs": [],
   "source": [
    "effacer()\n",
    "\n",
    "# Écrire la suite d'instructions après cette ligne."
   ]
  },
  {
   "cell_type": "markdown",
   "metadata": {
    "collapsed": false
   },
   "source": [
    "## Exercice 3\n",
    "Écrire une **fonction** `carre_100()` qui dessine un carré dont les côtés ont taille 100, et testez-la."
   ]
  },
  {
   "cell_type": "code",
   "execution_count": null,
   "metadata": {
    "collapsed": false
   },
   "outputs": [],
   "source": [
    "# Compléter la fonction carre_100().\n",
    "# L'instruction pass est une instruction qui ne fait rien \n",
    "# (on l'utilise pour les fonctions non terminées).\n",
    "# Vous pouvez donc l'enlever une fois votre fonction écrite.\n",
    "\n",
    "def carre_100():\n",
    "    # Fonction à remplir\n",
    "    pass\n",
    "\n",
    "# Avant de tester la fonction, on efface le tableau.\n",
    "effacer()\n",
    "\n",
    "# ajouter le 1er test après cette ligne.\n",
    "\n",
    "aller(100,100)\n",
    "regarder_vers(135)\n",
    "# ajouter le second test après cette ligne."
   ]
  },
  {
   "cell_type": "markdown",
   "metadata": {
    "collapsed": false
   },
   "source": [
    "Vous devriez obtenir l'une des figures suivantes&nbsp;:\n",
    "![Test de la fonction carre_100](Test_carre_100.png)\n",
    "![Test de la fonction carre_100 figure alternative](Test_carre_100_bis.png)"
   ]
  },
  {
   "cell_type": "markdown",
   "metadata": {
    "collapsed": false
   },
   "source": [
    "## Exercice 4\n",
    "1. Écrire une fonction `carre(taille)` qui dessine un carré dont les côtés ont la taille donnée en paramètre.\n",
    "Par exemple, l'appel de `carre(120)` devra dessiner un carré dont la taille de chaque côté est 120.<br>**Remarques&nbsp;:**\n",
    "    - votre fonction ne doit faire **que** dessiner un carré. Elle ne doit **pas** nettoyer l'écran, ni commencer à la coordonnée (0,0), ni positionner l'angle de la tortue au préalable&nbsp;: le carré doit être dessiné là où se trouve la tortue. \n",
    "    - faites en sorte que la position de la tortue soit **exactement la même** au début et à la fin du dessin (non seulement les coordonnées, mais aussi l'angle).\n",
    "2. Testez votre fonction avec plusieurs valeurs pour la taille du côté."
   ]
  },
  {
   "cell_type": "code",
   "execution_count": null,
   "metadata": {
    "collapsed": false
   },
   "outputs": [],
   "source": [
    "def carre(taille):\n",
    "    pass\n",
    "\n",
    "# Tests\n",
    "carre(taille=120)"
   ]
  },
  {
   "cell_type": "markdown",
   "metadata": {
    "collapsed": false
   },
   "source": [
    "## Exercice 5\n",
    "En utilisant votre fonction `carre` écrite dans l'exercice 4, produisez la figure suivante, composée de 25 carrés dont les tailles sont 0, 5, 10, etc.&nbsp;:\n",
    "![Carrés emboîtés](Carres_emboites.png)\n",
    "Pensez à nettoyer l'écran avant, et éventuellement à positionner correctement la tortue avant le test, pour que la figure ne dépasse pas du tableau."
   ]
  },
  {
   "cell_type": "code",
   "execution_count": null,
   "metadata": {
    "collapsed": false
   },
   "outputs": [],
   "source": []
  },
  {
   "cell_type": "markdown",
   "metadata": {
    "collapsed": false
   },
   "source": [
    "## Exercice 6\n",
    "Écrire une fonction `polygone(taille, nombre_cotes)` qui dessine un polygone régulier dont la taille et le nombre de côtés sont donnés en paramètres."
   ]
  },
  {
   "cell_type": "code",
   "execution_count": null,
   "metadata": {
    "collapsed": false
   },
   "outputs": [],
   "source": []
  },
  {
   "cell_type": "markdown",
   "metadata": {
    "collapsed": false
   },
   "source": [
    "Tester la fonction `polygone`&nbsp;:\n",
    "1. en dessinant un octogone (8 côtés).\n",
    "2. en écrivant une fonction `triangle(taille)`,\n",
    "3. en dessinant... un cercle&nbsp;!"
   ]
  },
  {
   "cell_type": "code",
   "execution_count": null,
   "metadata": {
    "collapsed": false
   },
   "outputs": [],
   "source": []
  },
  {
   "cell_type": "markdown",
   "metadata": {
    "collapsed": false
   },
   "source": [
    "## Exercice 7\n",
    "1. Écrire une fonction `rosace(taille, nombre_cotes)` qui dessine une rosace composée de plusieurs polygones dont la taille de chaque côté et le nombre de côtés sont donnés en paramètres.\n",
    "\n",
    "Le premier côté du k-ième polygone dessiné sera incliné d'un angle 10k, et on fera varier cet angle de 0 à 350 degrés, par pas de 10 degrés. On dessine donc au total 36 polygones, inclinés de 10 degrés en 10 degrés. Un exemple est donné ci-dessous, avec 36 pentagones.\n",
    "\n",
    "2. Écrire une fonction `rosace_coloree(taille, nombre_cotes)` qui fait la même chose que la fonction précédente, mais qui en plus change progressivement la couleur des polygones dessinés. On part d'une première couleur, par exemple rouge (c'est-à-dire 255,0,0 dans le codage _rouge, vert, bleu_) pour arriver à une couleur de fin, par exemple bleu (c'est-à-dire 0,0,255). À chaque nouveau polygone, on modifie progressivement et uniformément la couleur. Par exemple, rosace_coloree(100,5) donne ce dessin :\n",
    "![Rosace colorée](Rosace.png)"
   ]
  },
  {
   "cell_type": "code",
   "execution_count": null,
   "metadata": {
    "collapsed": false
   },
   "outputs": [],
   "source": []
  }
 ],
 "metadata": {
  "kernelspec": {
   "argv": [
    "python",
    "-m",
    "ipykernel_launcher",
    "-f",
    "{connection_file}"
   ],
   "display_name": "Python 3",
   "env": null,
   "interrupt_mode": "signal",
   "language": "python",
   "metadata": null,
   "name": "python3"
  },
  "language_info": {
   "codemirror_mode": {
    "name": "ipython",
    "version": 3
   },
   "file_extension": ".py",
   "mimetype": "text/x-python",
   "name": "python",
   "nbconvert_exporter": "python",
   "pygments_lexer": "ipython3",
   "version": "3.8.5"
  },
  "name": "TP_tortue.ipynb"
 },
 "nbformat": 4,
 "nbformat_minor": 4
}
