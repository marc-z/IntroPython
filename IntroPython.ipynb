{
 "cells": [
  {
   "cell_type": "markdown",
   "metadata": {
    "collapsed": false
   },
   "source": [
    "\n",
    "Introduction à Python\n",
    "====\n",
    "Dans ce document, nous allons commencer à programmer avec `Python`.\n",
    "\n",
    "`Python` est un langage de programmation, mais de nombreuses applications permettent de saisir des programmes en `python`, puis de les exécuter. Vous pouvez par exemple installer \n",
    "- [Thonny](https://thonny.org \"Thonny\") ou\n",
    "- [Pyzo](https://pyzo.org \"Pyzo\").\n",
    "\n",
    "Au cours de cette séance, pour vous éviter d'installer quoi que ce soit sur votre machine, nous allons utiliser directement votre navigateur web.\n",
    "\n"
   ]
  }
 ],
 "metadata": {
  "kernelspec": {
   "argv": [
    "python",
    "-m",
    "ipykernel_launcher",
    "-f",
    "{connection_file}"
   ],
   "display_name": "Python 3",
   "env": null,
   "interrupt_mode": "signal",
   "language": "python",
   "metadata": null,
   "name": "python3"
  },
  "name": "IntroPython.ipynb"
 },
 "nbformat": 4,
 "nbformat_minor": 4
}
