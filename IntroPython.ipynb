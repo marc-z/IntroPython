{
 "cells": [
  {
   "cell_type": "markdown",
   "metadata": {
    "collapsed": false
   },
   "source": [
    "\n",
    "Introduction à Python\n",
    "====\n",
    "Dans ce document, nous allons commencer à programmer avec `Python`.\n",
    "\n",
    "`Python` est un langage de programmation, mais de nombreuses applications permettent de saisir des programmes en `python`, puis de les exécuter. Vous pouvez par exemple installer \n",
    "- [Thonny](https://thonny.org \"Thonny\") ou\n",
    "- [Pyzo](https://pyzo.org \"Pyzo\").\n",
    "\n",
    "Au cours de cette séance, pour vous éviter d'installer quoi que ce soit sur votre machine, nous allons utiliser directement votre navigateur web.\n",
    "\n",
    "Ce document est composé de **cellules** qui peuvent contenir du texte (comme celle que vous êtes en train de lire), ou du code python. Vous pouvez éditer les cellules qui contiennent du code python, puis les exécuter directement. Par exemple, la cellule suivante contient juste du code permettant d'afficher un message.\n",
    "\n",
    "**Pour l'exécuter**: placez le curseur dans la fenêtre, et tapez Shift-Entrée (shift est la touche pour passer temporairement en majuscules, en Entrée la touche pour passer à la ligne suivante)."
   ]
  },
  {
   "cell_type": "code",
   "execution_count": null,
   "metadata": {
    "collapsed": false
   },
   "outputs": [],
   "source": [
    "print(\"Bonjour !\\nÉvaluez moi en tapant Shift-Entrée\")"
   ]
  },
  {
   "cell_type": "markdown",
   "metadata": {
    "collapsed": false
   },
   "source": [
    "Vous devriez voir le résultat de l'évaluation. Observez le retour à la ligne après `Bonjour !`. Il est produit par la séquence `\\n` à l'intérieur de la chaîne de caractères.\n",
    "\n",
    "## Exercice 1\n",
    "Dans la cellule suivante, entrez vous-même du code pour:\n",
    "- définir une variable $x$ valant 1234.\n",
    "- attribuer à une nouvelle variable, y, la valeur de $x^2$.\n",
    "- faire afficher la valeur de $x$ et la valeur de $x^2$.\n",
    "\n"
   ]
  },
  {
   "cell_type": "code",
   "execution_count": null,
   "metadata": {
    "collapsed": false
   },
   "outputs": [],
   "source": []
  }
 ],
 "metadata": {
  "kernelspec": {
   "argv": [
    "python",
    "-m",
    "ipykernel_launcher",
    "-f",
    "{connection_file}"
   ],
   "display_name": "Python 3",
   "env": null,
   "interrupt_mode": "signal",
   "language": "python",
   "metadata": null,
   "name": "python3"
  },
  "name": "IntroPython.ipynb"
 },
 "nbformat": 4,
 "nbformat_minor": 4
}
