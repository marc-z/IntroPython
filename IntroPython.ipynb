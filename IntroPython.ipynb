{
 "cells": [
  {
   "cell_type": "markdown",
   "metadata": {
    "collapsed": false
   },
   "source": [
    "\n",
    "Introduction à Python\n",
    "====\n",
    "Dans ce document, nous allons commencer à programmer avec le langage `Python`.\n",
    "\n",
    "De nombreuses applications permettent de saisir (c'est-à-dire, taper) des programmes en `Python`, puis de les exécuter. Vous pouvez par exemple installer&nbsp;:\n",
    "- [Thonny](https://thonny.org \"Thonny\") ou\n",
    "- [Pyzo](https://pyzo.org \"Pyzo\").\n",
    "\n",
    "Au cours de cette séance, pour vous éviter d'installer quoi que ce soit sur votre machine, nous allons utiliser directement votre navigateur web.\n",
    "\n",
    "Ce document est composé de <span style=\"color:#e71149\">**cellules**</span> qui peuvent contenir du <span style=\"color:#0a4c8e\">**texte**</span> comme celle que vous êtes en train de lire, ou du <span style=\"color:#0a4c8e\">**code Python**</span>. Les cellules pouvant contenir du code `python` se repèrent car elles sont marquées `[ ]:` à leur gauche.\n",
    "\n",
    "Cliquer sur une cellule permet de la sélectionner. On repère la cellule sélectionnée par une barre à gauche (par défaut, bleue pour les cellules de texte et verte pour les cellules de code `python`).\n",
    "\n",
    "Vous pouvez modifier toute cellule de code, en supprimant, changeant ou ajoutant du texte. Pour cela, il suffit de sélectionner la cellule. On peut ensuite l'exécuter directement dans ce document. Par exemple, la cellule suivante contient du code permettant juste d'afficher un message.\n",
    "\n",
    "**Pour l'exécuter**&nbsp;: placez le curseur dans la fenêtre, et tapez Shift-Entrée (shift est la touche pour passer temporairement en majuscules, en Entrée la touche pour passer à la ligne suivante)."
   ]
  },
  {
   "cell_type": "code",
   "execution_count": null,
   "metadata": {
    "collapsed": false
   },
   "outputs": [],
   "source": [
    "print(\"Bonjour !\\nÉvaluez moi en tapant Shift-Entrée\")"
   ]
  },
  {
   "cell_type": "markdown",
   "metadata": {
    "collapsed": false
   },
   "source": [
    "## Exercice 1\n",
    "1. Évaluez la cellule python précédente. Vous devriez voir le résultat de l'évaluation. Observez le retour à la ligne après `Bonjour !`. Il est produit par la séquence `\\n` à l'intérieur de la chaîne de caractères.\n",
    "2. Modifiez le texte de la cellule en remplaçant `Bonjour` par `Hello`, et ré-évaluez la.\n",
    "3. Faites une erreur volontaire de syntaxe (par exemple, oubliez de refermer les guillemets) et évaluez à nouveau.\n",
    "4. Rétablissez une syntaxe correcte, puis ajoutez une seconde ligne qui affiche `Bye !`. Évaluez la cellule une dernière fois."
   ]
  },
  {
   "cell_type": "markdown",
   "metadata": {
    "collapsed": false
   },
   "source": [
    "Maintenant que vous savez évaluer du code python, nous allons faire des exercices pour vous permettre de revenir sur les constructions les plus courantes de `Python`."
   ]
  },
  {
   "cell_type": "markdown",
   "metadata": {
    "collapsed": false
   },
   "source": [
    "## Exercice 2\n",
    "Dans la cellule suivante, entrez vous-même du code pour&nbsp;:\n",
    "- définir une variable $x$ valant 1234.\n",
    "- sauvegarder la valeur de $x^2$ dans une nouvelle variable $y$.\n",
    "- faire afficher la valeur de $x$ et la valeur de $x^2$."
   ]
  },
  {
   "cell_type": "code",
   "execution_count": null,
   "metadata": {
    "collapsed": false
   },
   "outputs": [],
   "source": [
    "# Définir x\n",
    "\n",
    "# Puis y\n",
    "\n",
    "# Puis faites l'affichage demandé.\n"
   ]
  },
  {
   "cell_type": "markdown",
   "metadata": {
    "collapsed": false
   },
   "source": [
    "## Exercice 3\n",
    "1. En utilisant une boucle <span style=\"color:#e71149\">while</span>, écrire un programme qui affiche une table des entiers, de leurs carrés et de leurs cubes, pour tous les entiers de 0 à 9. Le résultat de l'évaluation doit être le suivant&nbsp;:\n",
    "\n",
    "            0\t0\t0\n",
    "            1\t1\t1\n",
    "            2\t4\t8\n",
    "            3\t9\t27\n",
    "            4\t16\t64\n",
    "            5\t25\t125\n",
    "            6\t36\t216\n",
    "            7\t49\t343\n",
    "            8\t64\t512\n",
    "            9\t81\t729\n",
    "    \n",
    "    <span  style=\"color:#11b749\">**Remarque**</span> Si vous voulez le même alignement, vous pouvez utiliser le paramètre `sep` de la fonction `print`. Ainsi, l'instruction \n",
    "```python\n",
    "print(a, b, c, sep='\\t')\n",
    "```  \n",
    "  \n",
    "   permet d'afficher les valeurs de `a`, `b` et `c` en les séparant par le caractère `\\t`, qui représente une tabulation. Cela a tendance à aligner les résultats sur des colonnes fixées.\n",
    "   \n",
    "2. Même question dans la cellule d'après, en utilisant la boucle `for`"
   ]
  },
  {
   "cell_type": "code",
   "execution_count": null,
   "metadata": {
    "collapsed": false
   },
   "outputs": [],
   "source": [
    "# Table des carrés et des cubes en utilisant une boucle while."
   ]
  },
  {
   "cell_type": "code",
   "execution_count": null,
   "metadata": {
    "collapsed": false
   },
   "outputs": [],
   "source": [
    "# Table des carrés et des cubes en utilisant une boucle for."
   ]
  },
  {
   "cell_type": "markdown",
   "metadata": {
    "collapsed": false
   },
   "source": [
    "On veut maintenant encapsuler ce code dans une fonction. En première approche, on peut voir une fonction comme une façon d'encapsuler du code, en lui donnant un nom. On pourra ensuite utiliser autant de fois que l'on veut le code encapsulé, en utilisant simplement nom de la fonction. Il  a donc deux phases pour une définition de fonction&nbsp;:\n",
    "- sa **définition**, où on écrit le code de la fonction, et on l'encapsule en lui donnant un nom.\n",
    "- ses **utilisations**, qui peuvent être multiples. Chacune permet d'exécuter le code encapsulé dans la fonction. L'**utilisation** d'une fonction se nomme aussi son **appel**.\n",
    "\n",
    "Par exemple, la fonction ci-dessous s'appelle `f`, et encapsule deux instructions (qui sont toutes les deux des instructions d'affichage):"
   ]
  },
  {
   "cell_type": "code",
   "execution_count": null,
   "metadata": {
    "collapsed": false
   },
   "outputs": [],
   "source": [
    "def affiche_carre_cube_12():\n",
    "    print(\"Ceci est un premier essai de définition de fonction.\")\n",
    "    print(\"Cette fonction affiche 12, son carré et son cube.\")\n",
    "    print(12, 12*12, 12*12*12)"
   ]
  },
  {
   "cell_type": "markdown",
   "metadata": {
    "collapsed": false
   },
   "source": [
    "Nous verrons plus tard l'intérêt des parenthèses juste après le nom de la fonction (ici `affiche_carre_cube_12`). Dans l'immédiat, une fois la cellule ci-dessus évaluée, la fonction `affiche_carre_cube_12` est \"enregistrée\" par Python, et vous pouvez l'**utiliser**. Pour utiliser une fonction, on donne son nom suivi d'une paire de parenthèses, comme ceci."
   ]
  },
  {
   "cell_type": "code",
   "execution_count": null,
   "metadata": {
    "collapsed": false
   },
   "outputs": [],
   "source": [
    "# une première utilisation\n",
    "f()\n",
    "\n",
    "# L'affichage d'une séparation\n",
    "print(\"--------------------\")\n",
    "\n",
    "# une seconde utilisation, pour tester\n",
    "f()"
   ]
  },
  {
   "cell_type": "markdown",
   "metadata": {
    "collapsed": false
   },
   "source": [
    "## Exercice 4\n",
    "1. Écrire une définition de **fonction** qui affiche la table des entiers, de leurs carrés et de leurs cubes, pour tous les entiers de 0 à 9. Vous pouvez utiliser une boucle `while` ou une boucle `for`, comme vous préférez.\n"
   ]
  },
  {
   "cell_type": "code",
   "execution_count": null,
   "metadata": {
    "collapsed": false
   },
   "outputs": [],
   "source": [
    "# Fonction d'affichage de la table entier/carré/cube."
   ]
  },
  {
   "cell_type": "markdown",
   "metadata": {
    "collapsed": false
   },
   "source": [
    "2. Utiliser votre fonction autant de fois que vous le souhaitez."
   ]
  },
  {
   "cell_type": "code",
   "execution_count": null,
   "metadata": {
    "collapsed": false
   },
   "outputs": [],
   "source": [
    "# Utilisation de la fonction"
   ]
  },
  {
   "cell_type": "markdown",
   "metadata": {
    "collapsed": false
   },
   "source": [
    "On en vient maintenant à la paire de parenthèses qui suit le nom de la fonction, à la fois dans sa définition et dans les appels. Sa première utilité est de permettre à Python de repérer qu'il s'agit d'une fonction, et pas d'une variable ordinaire. Mais cette paire de parenthèses a un autre intérêt. \n",
    "\n",
    "On peut remarquer la chose suivante: si au lieu d'afficher la table des entiers/carrés/cubes entre 0 et 9, on avait voulu l'afficher en commençant d'un autre entier autre que 0 (par exemple 42) et en finissant à un entier autre que 9 (par exemple 55), le code aurait été presque identique: il aurait suffit de changer deux valeurs dans le code.\n",
    "\n",
    "Comme il est dommage d'écrire deux fonctions presque identiques, Python permet de **paramétrer** les fonctions. Cela signifie que nous pouvons utiliser des noms à la place de 0 et 9 lorsque nous écrivons la fonction. La valeur de ces noms ne sera fixée que plus tard, au moment de son appel. \n",
    "\n",
    "L'exemple de la fonction d’affichage de 12, de son carré et de son cube nous permet d'illustrer cela. Au lieu de faire une fonction qui affiche cela pour une valeur **fixe** (12), nous allons faire une fonction qui affiche ces informations pour un nombre dont la valeur sera décidée à l'appel de la fonction. Pour cela, on remplace `12` par un nom que l'on indique dans les parenthèses de la fonction (on a choisi `n` ci-dessous). Essayez de comprendre le code suivant.\n",
    "\n"
   ]
  },
  {
   "cell_type": "code",
   "execution_count": null,
   "metadata": {
    "collapsed": false
   },
   "outputs": [],
   "source": [
    "def affiche_carre_cube(n):\n",
    "    print(\"Ceci est un essai de définition de fonction avec un paramètre, n.\")\n",
    "    print(\"Cette fonction affiche son paramètre, le carré de son paramètre et le cube de son paramètre.\")\n",
    "    print(n, n*n, n*n*n)"
   ]
  },
  {
   "cell_type": "markdown",
   "metadata": {
    "collapsed": false
   },
   "source": [
    "Le code de la fonction est très semblable au précédent. On n'a fait que décider d'un nom pour le paramètre, et le remplacer les occurrences de `12`  par `n`. Une fois la cellule exécutée, vous pouvez tester la suivante et la modifier pour afficher les valeurs d'un nombre, de son carré et de son cube pour plusieurs nombres."
   ]
  },
  {
   "cell_type": "code",
   "execution_count": null,
   "metadata": {
    "collapsed": false
   },
   "outputs": [],
   "source": [
    "affiche_carre_cube(n=10)\n",
    "print(\"---\")\n",
    "affiche_carre_cube(n=12)\n",
    "print(\"---\")\n",
    "affiche_carre_cube(n=12345)"
   ]
  },
  {
   "cell_type": "markdown",
   "metadata": {
    "collapsed": false
   },
   "source": [
    "## Exercice 5\n",
    "1. Écrire une définition de fonction qui prend 3 paramètres : `x`, `from` et `to`, et qui affiche la table de `x` depuis `x * from` jusqu'à `x * to`.\n",
    "\n",
    "**Note** Lorsqu'on a besoin de plusieurs paramètres, on les sépare par une virgule (que ce soit dans la définition de la fonction ou bien dans les appels).\n",
    "\n",
    "2. Testes votre fonction dans la même cellule."
   ]
  },
  {
   "cell_type": "code",
   "execution_count": null,
   "metadata": {
    "collapsed": false
   },
   "outputs": [],
   "source": [
    "# Réponse de l'exercice 5"
   ]
  }
 ],
 "metadata": {
  "kernelspec": {
   "argv": [
    "python",
    "-m",
    "ipykernel_launcher",
    "-f",
    "{connection_file}"
   ],
   "display_name": "Python 3",
   "env": null,
   "interrupt_mode": "signal",
   "language": "python",
   "metadata": null,
   "name": "python3"
  },
  "name": "IntroPython.ipynb"
 },
 "nbformat": 4,
 "nbformat_minor": 4
}
